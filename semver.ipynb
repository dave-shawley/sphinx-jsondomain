{
 "cells": [
  {
   "cell_type": "code",
   "execution_count": 1,
   "metadata": {},
   "outputs": [
    {
     "data": {
      "text/plain": [
       "VersionInfo(major=0, minor=0, patch=3, prerelease=None, build=None)"
      ]
     },
     "execution_count": 1,
     "metadata": {},
     "output_type": "execute_result"
    }
   ],
   "source": [
    "import semver\n",
    "\n",
    "with open('version', 'r', encoding='utf-8') as v_fh:\n",
    "    prev_version = semver.VersionInfo.parse(v_fh.read())\n",
    "prev_version\n"
   ]
  },
  {
   "cell_type": "code",
   "execution_count": null,
   "metadata": {},
   "outputs": [],
   "source": []
  }
 ],
 "metadata": {
  "kernelspec": {
   "display_name": ".venv",
   "language": "python",
   "name": "python3"
  },
  "language_info": {
   "codemirror_mode": {
    "name": "ipython",
    "version": 3
   },
   "file_extension": ".py",
   "mimetype": "text/x-python",
   "name": "python",
   "nbconvert_exporter": "python",
   "pygments_lexer": "ipython3",
   "version": "3.10.9"
  },
  "orig_nbformat": 4,
  "vscode": {
   "interpreter": {
    "hash": "6e5c7c4be6fd8bbde686b3fce4d39d9da14b9cf671232be0d34d5f923910b80c"
   }
  }
 },
 "nbformat": 4,
 "nbformat_minor": 2
}
